{
 "cells": [
  {
   "cell_type": "markdown",
   "metadata": {},
   "source": [
    "# CRISPR_DeepEnsemble\n"
   ]
  },
  {
   "cell_type": "code",
   "execution_count": 1,
   "metadata": {},
   "outputs": [],
   "source": [
    "# Import and set defaults\n",
    "import CRISPR_DeepEnsemble\n",
    "import torch as t\n",
    "from scipy.stats import spearmanr, pearsonr \n",
    "\n",
    "t.manual_seed(123)\n",
    "dtype = t.float64\n",
    "t.set_default_dtype(dtype)"
   ]
  },
  {
   "cell_type": "markdown",
   "metadata": {},
   "source": [
    "## Data\n",
    "\n",
    "Here we have provided some sample data in the \"data\" directory. \\\n",
    "Ensure the data is formatted as follows:\n",
    "\n",
    "\n"
   ]
  },
  {
   "cell_type": "code",
   "execution_count": 2,
   "metadata": {},
   "outputs": [],
   "source": [
    "# Data selection\n",
    "workingDir = \"data/\"\n",
    "# Samples (One hot encoded 30mer)\n",
    "Samples = \"merged_X.pt\"\n",
    "# Features (30mer melting point)\n",
    "Features = \"merged_Features.pt\"\n",
    "# Response (30mer Indel frequency)\n",
    "Response = \"merged_Y.pt\""
   ]
  },
  {
   "cell_type": "code",
   "execution_count": 3,
   "metadata": {},
   "outputs": [],
   "source": [
    "# Example Implementation \n",
    "\n",
    "# Load data\n",
    "S = t.load(f\"{workingDir}/{Samples}\").transpose(1,2).type(dtype)\n",
    "F = t.load(f\"{workingDir}/{Features}\").reshape(-1,1).type(dtype)\n",
    "# Scale response to ensure it is (0,1)\n",
    "y = t.clamp((t.load(f\"{workingDir}/{Response}\")/100).type(dtype), 1e-3, 0.999)\n",
    "\n",
    "# Shuffle the dataset \n",
    "perm = t.randperm(len(y)) \n",
    "S, F, y = S[perm, :, :], F[perm,:], y[perm]  \n",
    "\n",
    "# Divide into test and train \n",
    "test_sample_count = 20000\n",
    "\n",
    "S_test = S[-test_sample_count:,:,:].unsqueeze(dim=1)  \n",
    "F_test = F[-test_sample_count:,:]\n",
    "y_test =  y[-test_sample_count:]\n",
    "\n",
    "S_train = S[:-test_sample_count,:,:].unsqueeze(dim=1)  \n",
    "F_train = F[:-test_sample_count,:]\n",
    "y_train = y[:-test_sample_count]\n",
    "\n",
    "# Data loader used to train model\n",
    "myData = CRISPR_DeepEnsemble.Seqs_and_Features(S=S[:-test_sample_count,:,:], F=F[:-test_sample_count,:], y=y[:-test_sample_count]) "
   ]
  },
  {
   "cell_type": "code",
   "execution_count": 4,
   "metadata": {},
   "outputs": [
    {
     "name": "stderr",
     "output_type": "stream",
     "text": [
      "/home/carl/.local/lib/python3.12/site-packages/torch/nn/modules/lazy.py:181: UserWarning: Lazy modules are a new feature under heavy development so changes to the API or functionality can happen at any moment.\n",
      "  warnings.warn('Lazy modules are a new feature under heavy development '\n"
     ]
    },
    {
     "name": "stdout",
     "output_type": "stream",
     "text": [
      "Training Model 1/25 for 50 epochs...\n"
     ]
    },
    {
     "name": "stderr",
     "output_type": "stream",
     "text": [
      "  0%|          | 0/50 [00:00<?, ?it/s]/home/carl/.local/lib/python3.12/site-packages/torch/autograd/graph.py:744: UserWarning: CUDA initialization: The NVIDIA driver on your system is too old (found version 11060). Please update your GPU driver by downloading and installing a new version from the URL: http://www.nvidia.com/Download/index.aspx Alternatively, go to: https://pytorch.org to install a PyTorch version that has been compiled with your version of the CUDA driver. (Triggered internally at ../c10/cuda/CUDAFunctions.cpp:108.)\n",
      "  return Variable._execution_engine.run_backward(  # Calls into the C++ engine to run the backward pass\n",
      "100%|██████████| 50/50 [04:08<00:00,  4.97s/it]\n"
     ]
    },
    {
     "name": "stdout",
     "output_type": "stream",
     "text": [
      "Final Epoch Training Loss: -0.829\n",
      "Training Model 2/25 for 50 epochs...\n"
     ]
    },
    {
     "name": "stderr",
     "output_type": "stream",
     "text": [
      "100%|██████████| 50/50 [04:07<00:00,  4.95s/it]\n"
     ]
    },
    {
     "name": "stdout",
     "output_type": "stream",
     "text": [
      "Final Epoch Training Loss: -0.802\n",
      "Training Model 3/25 for 50 epochs...\n"
     ]
    },
    {
     "name": "stderr",
     "output_type": "stream",
     "text": [
      "100%|██████████| 50/50 [04:13<00:00,  5.08s/it]\n"
     ]
    },
    {
     "name": "stdout",
     "output_type": "stream",
     "text": [
      "Final Epoch Training Loss: -0.803\n",
      "Training Model 4/25 for 50 epochs...\n"
     ]
    },
    {
     "name": "stderr",
     "output_type": "stream",
     "text": [
      "100%|██████████| 50/50 [04:11<00:00,  5.04s/it]\n"
     ]
    },
    {
     "name": "stdout",
     "output_type": "stream",
     "text": [
      "Final Epoch Training Loss: -0.803\n",
      "Training Model 5/25 for 50 epochs...\n"
     ]
    },
    {
     "name": "stderr",
     "output_type": "stream",
     "text": [
      "100%|██████████| 50/50 [04:09<00:00,  4.98s/it]\n"
     ]
    },
    {
     "name": "stdout",
     "output_type": "stream",
     "text": [
      "Final Epoch Training Loss: -0.864\n",
      "Training Model 6/25 for 50 epochs...\n"
     ]
    },
    {
     "name": "stderr",
     "output_type": "stream",
     "text": [
      "100%|██████████| 50/50 [04:11<00:00,  5.03s/it]\n"
     ]
    },
    {
     "name": "stdout",
     "output_type": "stream",
     "text": [
      "Final Epoch Training Loss: -0.761\n",
      "Training Model 7/25 for 50 epochs...\n"
     ]
    },
    {
     "name": "stderr",
     "output_type": "stream",
     "text": [
      "100%|██████████| 50/50 [04:25<00:00,  5.31s/it]\n"
     ]
    },
    {
     "name": "stdout",
     "output_type": "stream",
     "text": [
      "Final Epoch Training Loss: -0.827\n",
      "Training Model 8/25 for 50 epochs...\n"
     ]
    },
    {
     "name": "stderr",
     "output_type": "stream",
     "text": [
      "100%|██████████| 50/50 [04:25<00:00,  5.31s/it]\n"
     ]
    },
    {
     "name": "stdout",
     "output_type": "stream",
     "text": [
      "Final Epoch Training Loss: -0.877\n",
      "Training Model 9/25 for 50 epochs...\n"
     ]
    },
    {
     "name": "stderr",
     "output_type": "stream",
     "text": [
      "100%|██████████| 50/50 [04:23<00:00,  5.27s/it]\n"
     ]
    },
    {
     "name": "stdout",
     "output_type": "stream",
     "text": [
      "Final Epoch Training Loss: -0.775\n",
      "Training Model 10/25 for 50 epochs...\n"
     ]
    },
    {
     "name": "stderr",
     "output_type": "stream",
     "text": [
      "100%|██████████| 50/50 [04:21<00:00,  5.23s/it]\n"
     ]
    },
    {
     "name": "stdout",
     "output_type": "stream",
     "text": [
      "Final Epoch Training Loss: -0.790\n",
      "Training Model 11/25 for 50 epochs...\n"
     ]
    },
    {
     "name": "stderr",
     "output_type": "stream",
     "text": [
      "100%|██████████| 50/50 [04:13<00:00,  5.08s/it]\n"
     ]
    },
    {
     "name": "stdout",
     "output_type": "stream",
     "text": [
      "Final Epoch Training Loss: -0.768\n",
      "Training Model 12/25 for 50 epochs...\n"
     ]
    },
    {
     "name": "stderr",
     "output_type": "stream",
     "text": [
      "100%|██████████| 50/50 [04:26<00:00,  5.33s/it]\n"
     ]
    },
    {
     "name": "stdout",
     "output_type": "stream",
     "text": [
      "Final Epoch Training Loss: -0.765\n",
      "Training Model 13/25 for 50 epochs...\n"
     ]
    },
    {
     "name": "stderr",
     "output_type": "stream",
     "text": [
      "100%|██████████| 50/50 [08:38<00:00, 10.38s/it]\n"
     ]
    },
    {
     "name": "stdout",
     "output_type": "stream",
     "text": [
      "Final Epoch Training Loss: -0.884\n",
      "Training Model 14/25 for 50 epochs...\n"
     ]
    },
    {
     "name": "stderr",
     "output_type": "stream",
     "text": [
      "100%|██████████| 50/50 [04:32<00:00,  5.46s/it]\n"
     ]
    },
    {
     "name": "stdout",
     "output_type": "stream",
     "text": [
      "Final Epoch Training Loss: -0.819\n",
      "Training Model 15/25 for 50 epochs...\n"
     ]
    },
    {
     "name": "stderr",
     "output_type": "stream",
     "text": [
      "100%|██████████| 50/50 [04:16<00:00,  5.14s/it]\n"
     ]
    },
    {
     "name": "stdout",
     "output_type": "stream",
     "text": [
      "Final Epoch Training Loss: -0.792\n",
      "Training Model 16/25 for 50 epochs...\n"
     ]
    },
    {
     "name": "stderr",
     "output_type": "stream",
     "text": [
      "100%|██████████| 50/50 [04:18<00:00,  5.17s/it]\n"
     ]
    },
    {
     "name": "stdout",
     "output_type": "stream",
     "text": [
      "Final Epoch Training Loss: -0.792\n",
      "Training Model 17/25 for 50 epochs...\n"
     ]
    },
    {
     "name": "stderr",
     "output_type": "stream",
     "text": [
      "100%|██████████| 50/50 [04:07<00:00,  4.95s/it]\n"
     ]
    },
    {
     "name": "stdout",
     "output_type": "stream",
     "text": [
      "Final Epoch Training Loss: -0.877\n",
      "Training Model 18/25 for 50 epochs...\n"
     ]
    },
    {
     "name": "stderr",
     "output_type": "stream",
     "text": [
      "100%|██████████| 50/50 [04:11<00:00,  5.03s/it]\n"
     ]
    },
    {
     "name": "stdout",
     "output_type": "stream",
     "text": [
      "Final Epoch Training Loss: -0.866\n",
      "Training Model 19/25 for 50 epochs...\n"
     ]
    },
    {
     "name": "stderr",
     "output_type": "stream",
     "text": [
      "100%|██████████| 50/50 [04:21<00:00,  5.23s/it]\n"
     ]
    },
    {
     "name": "stdout",
     "output_type": "stream",
     "text": [
      "Final Epoch Training Loss: -0.833\n",
      "Training Model 20/25 for 50 epochs...\n"
     ]
    },
    {
     "name": "stderr",
     "output_type": "stream",
     "text": [
      "100%|██████████| 50/50 [04:16<00:00,  5.12s/it]\n"
     ]
    },
    {
     "name": "stdout",
     "output_type": "stream",
     "text": [
      "Final Epoch Training Loss: -0.788\n",
      "Training Model 21/25 for 50 epochs...\n"
     ]
    },
    {
     "name": "stderr",
     "output_type": "stream",
     "text": [
      "100%|██████████| 50/50 [04:16<00:00,  5.13s/it]\n"
     ]
    },
    {
     "name": "stdout",
     "output_type": "stream",
     "text": [
      "Final Epoch Training Loss: -0.859\n",
      "Training Model 22/25 for 50 epochs...\n"
     ]
    },
    {
     "name": "stderr",
     "output_type": "stream",
     "text": [
      "100%|██████████| 50/50 [04:12<00:00,  5.04s/it]\n"
     ]
    },
    {
     "name": "stdout",
     "output_type": "stream",
     "text": [
      "Final Epoch Training Loss: -0.810\n",
      "Training Model 23/25 for 50 epochs...\n"
     ]
    },
    {
     "name": "stderr",
     "output_type": "stream",
     "text": [
      "100%|██████████| 50/50 [04:10<00:00,  5.01s/it]\n"
     ]
    },
    {
     "name": "stdout",
     "output_type": "stream",
     "text": [
      "Final Epoch Training Loss: -0.815\n",
      "Training Model 24/25 for 50 epochs...\n"
     ]
    },
    {
     "name": "stderr",
     "output_type": "stream",
     "text": [
      "100%|██████████| 50/50 [04:14<00:00,  5.10s/it]\n"
     ]
    },
    {
     "name": "stdout",
     "output_type": "stream",
     "text": [
      "Final Epoch Training Loss: -0.776\n",
      "Training Model 25/25 for 50 epochs...\n"
     ]
    },
    {
     "name": "stderr",
     "output_type": "stream",
     "text": [
      "100%|██████████| 50/50 [04:09<00:00,  4.99s/it]"
     ]
    },
    {
     "name": "stdout",
     "output_type": "stream",
     "text": [
      "Final Epoch Training Loss: -0.755\n",
      "Training Complete!\n"
     ]
    },
    {
     "name": "stderr",
     "output_type": "stream",
     "text": [
      "\n"
     ]
    }
   ],
   "source": [
    "# Training a model, simply create a new RegressionDeepEnsemble object and call its `train_ensemble` method.\n",
    "myEnsemble = CRISPR_DeepEnsemble.RegressionDeepEnsemble(BaseNet=CRISPR_DeepEnsemble.CRISPRnet, dataset=myData,\n",
    "                                    n_estimators=25, batch_size=1000,\n",
    "                                    response_var = t.distributions.Beta)\n",
    "myEnsemble.train_ensemble(n_epochs=50)"
   ]
  },
  {
   "cell_type": "code",
   "execution_count": 5,
   "metadata": {},
   "outputs": [
    {
     "data": {
      "image/png": "[encoded data removed]",
      "text/plain": [
       "<Figure size 640x480 with 1 Axes>"
      ]
     },
     "metadata": {},
     "output_type": "display_data"
    }
   ],
   "source": [
    "# Example uncertainty plot\n",
    "L,U,IQR = myEnsemble.uncertainty_bounds(inputs =(S_test, F_test), n_samples=1000,\n",
    "                                    lower=0.01, upper=0.99) \n",
    "pred = myEnsemble.predict(inputs = (S_test, F_test))\n",
    "\n",
    "# below line gives sorting order for some input (e.g., prediction, true value, or uncertainty bounds)\n",
    "# _ids = t.argsort(y_test, descending=True)\n",
    "# ids = _ids[:30]\n",
    "\n",
    "# below line show the first 30 results\n",
    "ids = range(30)\n",
    "\n",
    "myEnsemble.plot_uncertainties(inputs=(S_test[ids,:,:,:], F_test[ids,:]), \n",
    "                              true_vals = y_test[ids], plot_means=False,\n",
    "                              lower=0.025, upper=0.975)"
   ]
  },
  {
   "cell_type": "code",
   "execution_count": 6,
   "metadata": {},
   "outputs": [
    {
     "name": "stdout",
     "output_type": "stream",
     "text": [
      "Spearman: 0.843, Pearson: 0.839\n"
     ]
    }
   ],
   "source": [
    "# Compute Spearman correlation between predictions and true answers in test set\n",
    "vals = (pred.numpy(), y_test)\n",
    "print(f\"Spearman: {round(spearmanr(*vals)[0],3)}, Pearson: {round(pearsonr(*vals)[0],3)}\")"
   ]
  },
  {
   "cell_type": "code",
   "execution_count": 7,
   "metadata": {},
   "outputs": [],
   "source": [
    "# Save model\n",
    "myEnsemble.save('CRISPR_DeepEnsemble')"
   ]
  },
  {
   "cell_type": "code",
   "execution_count": null,
   "metadata": {},
   "outputs": [
    {
     "name": "stdout",
     "output_type": "stream",
     "text": [
      "Spearman: 0.843, Pearson: 0.839\n"
     ]
    }
   ],
   "source": [
    "# Load model\n",
    "# NOTE: If you are getting import errors when loading the model uncomment the two lines below\n",
    "# import sys\n",
    "# sys.modules['CRISPR_DeepEnsemble'] = CRISPR_DeepEnsemble\n",
    "\n",
    "newEnsemble = CRISPR_DeepEnsemble.RegressionDeepEnsemble(load_from='CRISPR_DeepEnsemble.zip')\n",
    "\n",
    "# Predict values\n",
    "L,U,IQR = newEnsemble.uncertainty_bounds(inputs =(S_test, F_test), n_samples=1000,\n",
    "                                    lower=0.01, upper=0.99) \n",
    "loaded_pred = newEnsemble.predict(inputs = (S_test, F_test))\n",
    "\n",
    "# Compute Spearman correlation between predictions and true answers in test set\n",
    "vals = (loaded_pred.numpy(), y_test)\n",
    "print(f\"Spearman: {round(spearmanr(*vals)[0],3)}, Pearson: {round(pearsonr(*vals)[0],3)}\")"
   ]
  }
 ],
 "metadata": {
  "kernelspec": {
   "display_name": "Python 3",
   "language": "python",
   "name": "python3"
  },
  "language_info": {
   "codemirror_mode": {
    "name": "ipython",
    "version": 3
   },
   "file_extension": ".py",
   "mimetype": "text/x-python",
   "name": "python",
   "nbconvert_exporter": "python",
   "pygments_lexer": "ipython3",
   "version": "3.12.1"
  }
 },
 "nbformat": 4,
 "nbformat_minor": 2
}

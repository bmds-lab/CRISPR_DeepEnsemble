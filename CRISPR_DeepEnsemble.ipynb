{
 "cells": [
  {
   "cell_type": "markdown",
   "metadata": {},
   "source": [
    "# CRISPR_DeepEnsemble\n"
   ]
  },
  {
   "cell_type": "code",
   "execution_count": null,
   "metadata": {},
   "outputs": [],
   "source": [
    "# Import and set defaults\n",
    "import CRISPR_DeepEnsemble\n",
    "import torch as t\n",
    "import numpy as np\n",
    "import pandas as pd\n",
    "from scipy.stats import spearmanr, pearsonr \n",
    "\n",
    "t.manual_seed(123)\n",
    "dtype = t.float64\n",
    "t.set_default_dtype(dtype)"
   ]
  },
  {
   "cell_type": "markdown",
   "metadata": {},
   "source": [
    "## Data\n",
    "\n",
    "Here we have provided some sample data in the \"data\" directory. \\\n",
    "Ensure the data is formatted as follows:\n",
    "\n",
    "\n"
   ]
  },
  {
   "cell_type": "code",
   "execution_count": null,
   "metadata": {},
   "outputs": [],
   "source": [
    "# Data selection\n",
    "workingDir = \"data/\"\n",
    "# Samples (One hot encoded 30mer)\n",
    "Samples = \"merged_X.pt\"\n",
    "# Features (30mer melting point)\n",
    "Features = \"merged_Features.pt\"\n",
    "# Response (30mer Indel frequency)\n",
    "Response = \"merged_Y.pt\""
   ]
  },
  {
   "cell_type": "code",
   "execution_count": null,
   "metadata": {},
   "outputs": [],
   "source": [
    "# Example Implementation \n",
    "\n",
    "# Load data\n",
    "S = t.load(f\"{workingDir}/{Samples}\").transpose(1,2).type(dtype)\n",
    "F = t.load(f\"{workingDir}/{Features}\").reshape(-1,1).type(dtype)\n",
    "# Scale response to ensure it is (0,1)\n",
    "y = t.clamp((t.load(f\"{workingDir}/{Response}\")/100).type(dtype), 1e-3, 0.999)\n",
    "\n",
    "# Shuffle the dataset \n",
    "perm = t.randperm(len(y)) \n",
    "S, F, y = S[perm, :, :], F[perm,:], y[perm]  \n",
    "\n",
    "# Divide into test and train \n",
    "test_sample_count = 20000\n",
    "\n",
    "S_test = S[-test_sample_count:,:,:].unsqueeze(dim=1)  \n",
    "F_test = F[-test_sample_count:,:]\n",
    "y_test =  y[-test_sample_count:]\n",
    "\n",
    "S_train = S[:-test_sample_count,:,:].unsqueeze(dim=1)  \n",
    "F_train = F[:-test_sample_count,:]\n",
    "y_train = y[:-test_sample_count]\n",
    "\n",
    "# Data loader used to train model\n",
    "myData = CRISPR_DeepEnsemble.Seqs_and_Features(S=S[:-test_sample_count,:,:], F=F[:-test_sample_count,:], y=y[:-test_sample_count]) "
   ]
  },
  {
   "cell_type": "code",
   "execution_count": null,
   "metadata": {},
   "outputs": [],
   "source": [
    "# Training a model, simply create a new RegressionDeepEnsemble object and call its `train_ensemble` method.\n",
    "myEnsemble = CRISPR_DeepEnsemble.RegressionDeepEnsemble(BaseNet=CRISPR_DeepEnsemble.CRISPRnet, dataset=myData,\n",
    "                                    n_estimators=25, batch_size=1000,\n",
    "                                    response_var = t.distributions.Beta)\n",
    "myEnsemble.train_ensemble(n_epochs=5)"
   ]
  },
  {
   "cell_type": "code",
   "execution_count": null,
   "metadata": {},
   "outputs": [],
   "source": [
    "# Example uncertainty plot\n",
    "L,U,IQR = myEnsemble.uncertainty_bounds(inputs =(S_test, F_test), n_samples=1000,\n",
    "                                    lower=0.01, upper=0.99) \n",
    "pred = myEnsemble.predict(inputs = (S_test, F_test))\n",
    "\n",
    "# below line gives sorting order for some input (e.g., prediction, true value, or uncertainty bounds)\n",
    "# _ids = t.argsort(y_test, descending=True)\n",
    "# ids = _ids[:30]\n",
    "\n",
    "# below line show the first 30 results\n",
    "ids = range(30)\n",
    "\n",
    "myEnsemble.plot_uncertainties(inputs=(S_test[ids,:,:,:], F_test[ids,:]), \n",
    "                              true_vals = y_test[ids], plot_means=False,\n",
    "                              lower=0.025, upper=0.975)"
   ]
  },
  {
   "cell_type": "code",
   "execution_count": null,
   "metadata": {},
   "outputs": [],
   "source": [
    "# Compute Spearman correlation between predictions and true answers in test set\n",
    "vals = (pred.numpy(), y_test)\n",
    "print(f\"Spearman: {round(spearmanr(*vals)[0],3)}, Pearson: {round(pearsonr(*vals)[0],3)}\")"
   ]
  }
 ],
 "metadata": {
  "kernelspec": {
   "display_name": "jupyterHub",
   "language": "python",
   "name": "jupyterhub"
  },
  "language_info": {
   "codemirror_mode": {
    "name": "ipython",
    "version": 3
   },
   "file_extension": ".py",
   "mimetype": "text/x-python",
   "name": "python",
   "nbconvert_exporter": "python",
   "pygments_lexer": "ipython3",
   "version": "3.8.10"
  }
 },
 "nbformat": 4,
 "nbformat_minor": 2
}

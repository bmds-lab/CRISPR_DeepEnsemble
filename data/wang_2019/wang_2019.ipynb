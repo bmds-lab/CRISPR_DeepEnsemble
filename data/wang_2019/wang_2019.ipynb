{
 "cells": [
  {
   "cell_type": "markdown",
   "metadata": {},
   "source": [
    "# Preprocessing\n",
    "Wang, D., Zhang, C., Wang, B., Li, B., Wang, Q., Liu, D., Wang, H., Zhou, Y., Shi, L., Lan, F., & Wang, Y. (2019). Optimized CRISPR guide RNA design for two high-fidelity Cas9 variants by deep learning. Nature Communications, 10(1), 4284.\n",
    "\n",
    "This file was used to preprocess the data obtained from supplementary table 2.\n",
    "\n",
    "NOTE: You will need the optional dependancies to run this file.\\\n",
    "Ensure you have downloaded the human reference genome and built the bowtie2 index."
   ]
  },
  {
   "cell_type": "code",
   "execution_count": null,
   "metadata": {},
   "outputs": [],
   "source": [
    "# Information required to extend sequnces\n",
    "bowtie2Bin = \"bowtie2\"\n",
    "samtoolsBin = \"samtools\"\n",
    "referenceHumanGenome = \"human.fna\"\n",
    "bowtie2Index = \"human_bt\""
   ]
  },
  {
   "cell_type": "code",
   "execution_count": null,
   "metadata": {},
   "outputs": [],
   "source": [
    "import pandas as pd\n",
    "from Bio.SeqUtils import MeltingTemp as mt\n",
    "from Bio.Seq import Seq\n",
    "import numpy as np\n",
    "import torch as t\n",
    "from subprocess import run\n",
    "import os"
   ]
  },
  {
   "cell_type": "code",
   "execution_count": null,
   "metadata": {},
   "outputs": [],
   "source": [
    "def encode(seq, z='ATCG'):\n",
    "    return [list(map(lambda x: 1 if x==c else 0, z)) for c in seq]\n",
    "assert(encode('ATCG') == [[1,0,0,0], [0,1,0,0], [0,0,1,0], [0,0,0,1]])"
   ]
  },
  {
   "cell_type": "code",
   "execution_count": null,
   "metadata": {},
   "outputs": [],
   "source": [
    "def rc(dna):\n",
    "    try:\n",
    "        complements = str.maketrans('acgtrymkbdhvACGTRYMKBDHV', 'tgcayrkmvhdbTGCAYRKMVHDB')\n",
    "        rcseq = dna.translate(complements)[::-1]\n",
    "        return rcseq\n",
    "    except Exception as e:\n",
    "        return None"
   ]
  },
  {
   "cell_type": "code",
   "execution_count": null,
   "metadata": {},
   "outputs": [],
   "source": [
    "wangData = pd.read_excel(\"wang_2019_table_s2.xlsx\", skiprows=1)\n",
    "wangData.rename({\"gRNA_Seq\" : \"seq\", \"PAM\": \"pam\", \"Wt_Efficiency\": \"Indel freq\"}, axis=1, inplace=True)\n",
    "wangData = wangData[[\"seq\", \"pam\", \"Indel freq\"]]\n",
    "wangData.dropna(subset=[\"Indel freq\"], inplace=True)\n",
    "wangData = wangData[wangData[\"pam\"].str[1:] == \"GG\"]\n",
    "wangData[\"seq\"] = wangData[\"seq\"] + wangData[\"pam\"]\n",
    "wangData = wangData[[\"seq\", \"Indel freq\"]]\n",
    "wangData.drop_duplicates(subset=[\"seq\"])"
   ]
  },
  {
   "cell_type": "code",
   "execution_count": null,
   "metadata": {},
   "outputs": [],
   "source": [
    "with open(\"input.txt\", 'w') as outFile :\n",
    "    outFile.writelines([f\"{x}\\n\" for x in wangData[\"seq\"].to_list()])\n",
    "command = [\n",
    "    bowtie2Bin,\n",
    "    \"-x\",\n",
    "    bowtie2Index,\n",
    "    \"-p\",\n",
    "    \"32\",\n",
    "    \"--reorder\",\n",
    "    \"--no-hd\",\n",
    "    \"-t\",\n",
    "    \"-r\",\n",
    "    \"-U\",\n",
    "    \"input.txt\",\n",
    "    \"-S\",\n",
    "    \"output.txt\"\n",
    "]\n",
    "run(command, check=True)\n",
    "\n",
    "forwarded = 0\n",
    "dropped = 0\n",
    "reversed = []\n",
    "with open(\"output.txt\", \"r\") as inFile, open(\"samtools-faidx-region-file.txt\", \"w\") as outFile:\n",
    "    for line in inFile:\n",
    "        entries = line.split(\"\\t\")\n",
    "        if (\"XM:i:0\" in entries) and (\"XS:i:0\" not in entries):\n",
    "            forwarded += 1\n",
    "            outFile.write(f\"{entries[2]}:{int(entries[3])-4}-{int(entries[3])+26}\\n\")\n",
    "            if (entries[1] == \"16\"):\n",
    "                reversed.append(True)\n",
    "            else:\n",
    "                reversed.append(False)\n",
    "        else:\n",
    "            dropped += 1\n",
    "            length = wangData.shape[0]\n",
    "            wangData.drop(wangData[wangData[\"seq\"] == entries[9]].index, inplace=True)\n",
    "            if (length == wangData.shape[0]):\n",
    "                wangData.drop(wangData[wangData[\"seq\"] == rc(entries[9])].index, inplace=True)\n",
    "            if (length == wangData.shape[0]):\n",
    "                print(f\"Couldn't remove {entries[9]}\")\n",
    "\n",
    "wangData.insert(0,\"rc\",reversed)\n",
    "\n",
    "command = [\n",
    "    samtoolsBin,\n",
    "    'faidx',\n",
    "    referenceHumanGenome,\n",
    "    '-r',\n",
    "    'samtools-faidx-region-file.txt',\n",
    "    '-o',\n",
    "    'samtools-faidx-region-file-out.txt'\n",
    "]\n",
    "run(command, check=True)\n",
    "\n",
    "with open(\"samtools-faidx-region-file-out.txt\", \"r\") as inFile:\n",
    "    wangData[\"samtools_raw\"] = [x.strip().upper() for x in inFile.readlines()][1::2]\n",
    "wangData[\"seq\"] = wangData.apply(lambda x: rc(x.samtools_raw)[:-1] if  x.rc else x.samtools_raw[:-1], axis=1)\n",
    "wangData = wangData[[\"seq\", \"Indel freq\"]]\n",
    "wangData[\"Indel freq\"] = wangData[\"Indel freq\"] * 100\n",
    "os.unlink(\"input.txt\")\n",
    "os.unlink(\"output.txt\")\n",
    "os.unlink(\"samtools-faidx-region-file.txt\")\n",
    "os.unlink(\"samtools-faidx-region-file-out.txt\")"
   ]
  },
  {
   "cell_type": "code",
   "execution_count": null,
   "metadata": {},
   "outputs": [],
   "source": [
    "onehotEncoded = []\n",
    "\n",
    "for seq in wangData[\"seq\"]:\n",
    "    onehotEncoded.append(np.array(encode(seq)).transpose().tolist())\n",
    "\n",
    "wangData.insert(1, \"Onehot Encoding\", onehotEncoded)\n",
    "wangData.head()"
   ]
  },
  {
   "cell_type": "code",
   "execution_count": null,
   "metadata": {},
   "outputs": [],
   "source": [
    "meltingTemp = []\n",
    "\n",
    "for seq in wangData[\"seq\"]:\n",
    "    myseq = Seq(seq)\n",
    "    meltingTemp.append(mt.Tm_NN(myseq))\n",
    "\n",
    "wangData.insert(2, \"Melting Point\", meltingTemp)\n",
    "wangData.head()"
   ]
  },
  {
   "cell_type": "code",
   "execution_count": null,
   "metadata": {},
   "outputs": [],
   "source": [
    "onehot = []\n",
    "response = []\n",
    "meltingpoint = []\n",
    "\n",
    "for rowIdx, row in wangData.iterrows():\n",
    "    onehot.append(row[\"Onehot Encoding\"])\n",
    "    response.append(float(row[\"Indel freq\"]))\n",
    "    meltingpoint.append(float(row[\"Melting Point\"]))\n",
    "\n",
    "_onehot = t.tensor(onehot, dtype=t.float32)\n",
    "_response = t.tensor(response, dtype=t.float32)\n",
    "_meltingpoint = t.tensor(meltingpoint, dtype=t.float32)\n",
    "\n",
    "t.save(_onehot, f'wang_2019_X.pt')\n",
    "t.save(_response, f'wang_2019_Y.pt')\n",
    "t.save(_meltingpoint, f'wang_2019_Features.pt')\n",
    "\n",
    "print(_onehot.shape, _response.shape, _meltingpoint.shape)"
   ]
  },
  {
   "cell_type": "code",
   "execution_count": null,
   "metadata": {},
   "outputs": [],
   "source": [
    "wangData.to_csv(\"wang_2019.csv\", index=False)"
   ]
  }
 ],
 "metadata": {
  "kernelspec": {
   "display_name": "jupyterHub",
   "language": "python",
   "name": "jupyterhub"
  },
  "language_info": {
   "codemirror_mode": {
    "name": "ipython",
    "version": 3
   },
   "file_extension": ".py",
   "mimetype": "text/x-python",
   "name": "python",
   "nbconvert_exporter": "python",
   "pygments_lexer": "ipython3",
   "version": "3.8.10"
  }
 },
 "nbformat": 4,
 "nbformat_minor": 2
}

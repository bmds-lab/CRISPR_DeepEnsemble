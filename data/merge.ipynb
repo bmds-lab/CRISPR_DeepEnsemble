{
 "cells": [
  {
   "cell_type": "code",
   "execution_count": null,
   "metadata": {},
   "outputs": [],
   "source": [
    "import pandas as pd\n",
    "from Bio.SeqUtils import MeltingTemp as mt\n",
    "from Bio.Seq import Seq\n",
    "import numpy as np\n",
    "import torch as t"
   ]
  },
  {
   "cell_type": "code",
   "execution_count": null,
   "metadata": {},
   "outputs": [],
   "source": [
    "wang_2019 = pd.read_csv(\"wang_2019/wang_2019.csv\")\n",
    "wang_2019.rename({\"Indel freq\" : \"Indel freq Wang 2019\"}, axis=1, inplace=True)\n",
    "wang_2019.drop([\"Onehot Encoding\", \"Melting Point\"], axis=1, inplace=True)"
   ]
  },
  {
   "cell_type": "code",
   "execution_count": null,
   "metadata": {},
   "outputs": [],
   "source": [
    "kim_2019 = pd.read_csv(\"kim_2019/kim_2019.csv\")\n",
    "kim_2019.rename({\"Indel freq\" : \"Indel freq Kim 2019\"}, axis=1, inplace=True)\n",
    "kim_2019.drop([\"Onehot Encoding\", \"Melting Point\"], axis=1, inplace=True)"
   ]
  },
  {
   "cell_type": "code",
   "execution_count": null,
   "metadata": {},
   "outputs": [],
   "source": [
    "kim_2020 = pd.read_csv(\"kim_2020/kim_2020.csv\")\n",
    "kim_2020.rename({\"Indel freq\" : \"Indel freq Kim 2020\"}, axis=1, inplace=True)\n",
    "kim_2020.drop([\"Onehot Encoding\", \"Melting Point\"], axis=1, inplace=True)"
   ]
  },
  {
   "cell_type": "code",
   "execution_count": null,
   "metadata": {},
   "outputs": [],
   "source": [
    "xiang_2021 = pd.read_csv(\"xiang_2021/xiang_2021.csv\")\n",
    "xiang_2021.rename({\"Indel freq\" : \"Indel freq Xiang 2021\"}, axis=1, inplace=True)\n",
    "xiang_2021.drop([\"Onehot Encoding\", \"Melting Point\"], axis=1, inplace=True)"
   ]
  },
  {
   "cell_type": "code",
   "execution_count": null,
   "metadata": {},
   "outputs": [],
   "source": [
    "mergedData = pd.merge(wang_2019, kim_2019, on=['seq'], how='outer')\n",
    "mergedData = pd.merge( mergedData, kim_2020, on=['seq'], how='outer')\n",
    "mergedData = pd.merge( mergedData, xiang_2021, on=['seq'], how='outer')\n",
    "mergedData['Indel freq'] = mergedData.mean(axis=1)\n",
    "print(mergedData.shape)\n",
    "mergedData.head()"
   ]
  },
  {
   "cell_type": "code",
   "execution_count": null,
   "metadata": {},
   "outputs": [],
   "source": [
    "def encode(seq, z='ATCG'):\n",
    "    return [list(map(lambda x: 1 if x==c else 0, z)) for c in seq]\n",
    "assert(encode('ATCG') == [[1,0,0,0], [0,1,0,0], [0,0,1,0], [0,0,0,1]])"
   ]
  },
  {
   "cell_type": "code",
   "execution_count": null,
   "metadata": {},
   "outputs": [],
   "source": [
    "onehotEncoded = []\n",
    "\n",
    "for seq in mergedData[\"seq\"]:\n",
    "    onehotEncoded.append(np.array(encode(seq)).tolist())\n",
    "\n",
    "mergedData.insert(1, \"Onehot Encoding\", onehotEncoded)\n",
    "mergedData.head()"
   ]
  },
  {
   "cell_type": "code",
   "execution_count": null,
   "metadata": {},
   "outputs": [],
   "source": [
    "meltingTemp = []\n",
    "\n",
    "for seq in mergedData[\"seq\"]:\n",
    "    myseq = Seq(seq)\n",
    "    meltingTemp.append(mt.Tm_NN(myseq))\n",
    "\n",
    "mergedData.insert(2, \"Melting Point\", meltingTemp)\n",
    "mergedData.head()"
   ]
  },
  {
   "cell_type": "code",
   "execution_count": null,
   "metadata": {},
   "outputs": [],
   "source": [
    "onehot = []\n",
    "response = []\n",
    "meltingpoint = []\n",
    "\n",
    "for rowIdx, row in mergedData.iterrows():\n",
    "    onehot.append(row[\"Onehot Encoding\"])\n",
    "    response.append(float(row[\"Indel freq\"]))\n",
    "    meltingpoint.append(float(row[\"Melting Point\"]))\n",
    "\n",
    "_onehot = t.tensor(onehot, dtype=t.float32)\n",
    "_response = t.tensor(response, dtype=t.float32)\n",
    "_meltingpoint = t.tensor(meltingpoint, dtype=t.float32)\n",
    "\n",
    "t.save(_onehot, f'merged_X.pt')\n",
    "t.save(_response, f'merged_Y.pt')\n",
    "t.save(_meltingpoint, f'merged_Features.pt')\n",
    "\n",
    "print(_onehot.shape, _response.shape, _meltingpoint.shape)"
   ]
  }
 ],
 "metadata": {
  "kernelspec": {
   "display_name": "jupyterHub",
   "language": "python",
   "name": "jupyterhub"
  },
  "language_info": {
   "codemirror_mode": {
    "name": "ipython",
    "version": 3
   },
   "file_extension": ".py",
   "mimetype": "text/x-python",
   "name": "python",
   "nbconvert_exporter": "python",
   "pygments_lexer": "ipython3",
   "version": "3.8.10"
  },
  "orig_nbformat": 4
 },
 "nbformat": 4,
 "nbformat_minor": 2
}

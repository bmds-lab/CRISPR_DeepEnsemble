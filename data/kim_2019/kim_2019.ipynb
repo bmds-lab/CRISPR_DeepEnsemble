{
 "cells": [
  {
   "cell_type": "markdown",
   "metadata": {},
   "source": [
    "# Preprocessing\n",
    "Kim, H. K., Kim, Y., Lee, S., Min, S., Bae, J. Y., Choi, J. W., Park, J., Jung, D., Yoon, S., & Kim, H. H. (2019). SpCas9 activity prediction by DeepSpCas9, a deep learning–based model with high generalization performance. Science Advances, 5(11), eaax9249. \n",
    "\n",
    "This file was used to preprocess the data obtained from supplementary tables 1 and 2."
   ]
  },
  {
   "cell_type": "code",
   "execution_count": null,
   "metadata": {},
   "outputs": [],
   "source": [
    "import pandas as pd\n",
    "from Bio.SeqUtils import MeltingTemp as mt\n",
    "from Bio.Seq import Seq\n",
    "import numpy as np\n",
    "import torch as t"
   ]
  },
  {
   "cell_type": "code",
   "execution_count": null,
   "metadata": {},
   "outputs": [],
   "source": [
    "def encode(seq, z='ATCG'):\n",
    "    return [list(map(lambda x: 1 if x==c else 0, z)) for c in seq]\n",
    "assert(encode('ATCG') == [[1,0,0,0], [0,1,0,0], [0,0,1,0], [0,0,0,1]])"
   ]
  },
  {
   "cell_type": "code",
   "execution_count": null,
   "metadata": {},
   "outputs": [],
   "source": [
    "kimData_train = pd.read_excel(\"kim_2019_table_s1.xlsx\")\n",
    "kimData_test = pd.read_excel(\"kim_2019_table_s2.xlsx\")\n",
    "kimData_test.rename({\"Background subtracted indel frequencies\\n(average, %)\" : \"Background subtracted indel (%)\"}, axis=1, inplace=True)\n",
    "kimData_train = kimData_train[[\"Target context sequence (4+20+3+3)\", \"Background subtracted indel (%)\"]]\n",
    "kimData_test = kimData_test[[\"Target context sequence (4+20+3+3)\", \"Background subtracted indel (%)\"]]\n",
    "kimData = pd.concat((kimData_train, kimData_test))\n",
    "kimData.drop_duplicates(\"Target context sequence (4+20+3+3)\", inplace=True)\n",
    "kimData.rename({\"Target context sequence (4+20+3+3)\" : \"seq\", \"Background subtracted indel (%)\": \"Indel freq\"}, axis=1, inplace=True)"
   ]
  },
  {
   "cell_type": "code",
   "execution_count": null,
   "metadata": {},
   "outputs": [],
   "source": [
    "onehotEncoded = []\n",
    "\n",
    "for seq in kimData[\"seq\"]:\n",
    "    onehotEncoded.append(np.array(encode(seq)).transpose().tolist())\n",
    "\n",
    "kimData.insert(1, \"Onehot Encoding\", onehotEncoded)\n",
    "kimData.head()"
   ]
  },
  {
   "cell_type": "code",
   "execution_count": null,
   "metadata": {},
   "outputs": [],
   "source": [
    "meltingTemp = []\n",
    "\n",
    "for seq in kimData[\"seq\"]:\n",
    "    myseq = Seq(seq)\n",
    "    meltingTemp.append(mt.Tm_NN(myseq))\n",
    "\n",
    "kimData.insert(2, \"Melting Point\", meltingTemp)\n",
    "kimData.head()"
   ]
  },
  {
   "cell_type": "code",
   "execution_count": null,
   "metadata": {},
   "outputs": [],
   "source": [
    "onehot = []\n",
    "response = []\n",
    "meltingpoint = []\n",
    "\n",
    "for rowIdx, row in kimData.iterrows():\n",
    "    onehot.append(row[\"Onehot Encoding\"])\n",
    "    response.append(float(row[\"Indel freq\"]))\n",
    "    meltingpoint.append(float(row[\"Melting Point\"]))\n",
    "\n",
    "_onehot = t.tensor(onehot, dtype=t.float32)\n",
    "_response = t.tensor(response, dtype=t.float32)\n",
    "_meltingpoint = t.tensor(meltingpoint, dtype=t.float32)\n",
    "\n",
    "t.save(_onehot, f'kim_2019_X.pt')\n",
    "t.save(_response, f'kim_2019_Y.pt')\n",
    "t.save(_meltingpoint, f'kim_2019_Features.pt')\n",
    "\n",
    "print(_onehot.shape, _response.shape, _meltingpoint.shape)"
   ]
  },
  {
   "cell_type": "code",
   "execution_count": null,
   "metadata": {},
   "outputs": [],
   "source": [
    "kimData.to_csv(\"kim_2019.csv\", index=False)"
   ]
  }
 ],
 "metadata": {
  "kernelspec": {
   "display_name": "jupyterHub",
   "language": "python",
   "name": "jupyterhub"
  },
  "language_info": {
   "codemirror_mode": {
    "name": "ipython",
    "version": 3
   },
   "file_extension": ".py",
   "mimetype": "text/x-python",
   "name": "python",
   "nbconvert_exporter": "python",
   "pygments_lexer": "ipython3",
   "version": "3.8.10"
  },
  "orig_nbformat": 4
 },
 "nbformat": 4,
 "nbformat_minor": 2
}

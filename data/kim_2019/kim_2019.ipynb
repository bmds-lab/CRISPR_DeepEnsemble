{
 "cells": [
  {
   "cell_type": "markdown",
   "metadata": {},
   "source": [
    "# Preprocessing\n",
    "H. K. Kim, Y. Kim, S. Lee, S. Min, J. Y. Bae, J. W. Choi, J. Park, D. Jung, S. Yoon, and H. H. Kim. (2019). Spcas9 activity prediction by deepspcas9, a deep learning–based model with high generalization performance. Science Advances, 5(11), eaax9249.\n",
    "\n",
    "This file was used to preprocess the data obtained from supplementary tables 1 and 2."
   ]
  },
  {
   "cell_type": "code",
   "execution_count": 1,
   "metadata": {},
   "outputs": [],
   "source": [
    "import pandas as pd\n",
    "from Bio.SeqUtils import MeltingTemp as mt\n",
    "from Bio.Seq import Seq\n",
    "import numpy as np\n",
    "import torch as t"
   ]
  },
  {
   "cell_type": "code",
   "execution_count": 2,
   "metadata": {},
   "outputs": [],
   "source": [
    "def encode(seq, z='ATCG'):\n",
    "    return [list(map(lambda x: 1 if x==c else 0, z)) for c in seq]\n",
    "assert(encode('ATCG') == [[1,0,0,0], [0,1,0,0], [0,0,1,0], [0,0,0,1]])"
   ]
  },
  {
   "cell_type": "code",
   "execution_count": 3,
   "metadata": {},
   "outputs": [],
   "source": [
    "kimData_train = pd.read_excel(\"kim_2019_table_s1.xlsx\")\n",
    "kimData_test = pd.read_excel(\"kim_2019_table_s2.xlsx\")\n",
    "kimData_test.rename({\"Background subtracted indel frequencies\\n(average, %)\" : \"Background subtracted indel (%)\"}, axis=1, inplace=True)\n",
    "kimData_train = kimData_train[[\"Target context sequence (4+20+3+3)\", \"Background subtracted indel (%)\"]]\n",
    "kimData_test = kimData_test[[\"Target context sequence (4+20+3+3)\", \"Background subtracted indel (%)\"]]\n",
    "kimData = pd.concat((kimData_train, kimData_test))\n",
    "kimData.drop_duplicates(\"Target context sequence (4+20+3+3)\", inplace=True)\n",
    "kimData.rename({\"Target context sequence (4+20+3+3)\" : \"seq\", \"Background subtracted indel (%)\": \"Indel freq\"}, axis=1, inplace=True)"
   ]
  },
  {
   "cell_type": "code",
   "execution_count": 4,
   "metadata": {},
   "outputs": [
    {
     "data": {
      "text/html": [
       "<div>\n",
       "<style scoped>\n",
       "    .dataframe tbody tr th:only-of-type {\n",
       "        vertical-align: middle;\n",
       "    }\n",
       "\n",
       "    .dataframe tbody tr th {\n",
       "        vertical-align: top;\n",
       "    }\n",
       "\n",
       "    .dataframe thead th {\n",
       "        text-align: right;\n",
       "    }\n",
       "</style>\n",
       "<table border=\"1\" class=\"dataframe\">\n",
       "  <thead>\n",
       "    <tr style=\"text-align: right;\">\n",
       "      <th></th>\n",
       "      <th>seq</th>\n",
       "      <th>Onehot Encoding</th>\n",
       "      <th>Indel freq</th>\n",
       "    </tr>\n",
       "  </thead>\n",
       "  <tbody>\n",
       "    <tr>\n",
       "      <th>0</th>\n",
       "      <td>TTCTGCCTTGTTTCTTTCCTCTCTGGGTCG</td>\n",
       "      <td>[[0, 0, 0, 0, 0, 0, 0, 0, 0, 0, 0, 0, 0, 0, 0,...</td>\n",
       "      <td>24.287805</td>\n",
       "    </tr>\n",
       "    <tr>\n",
       "      <th>1</th>\n",
       "      <td>ACGACCTTCAGCTCAGTGACAGTGAGGACA</td>\n",
       "      <td>[[1, 0, 0, 1, 0, 0, 0, 0, 0, 1, 0, 0, 0, 0, 1,...</td>\n",
       "      <td>69.500438</td>\n",
       "    </tr>\n",
       "    <tr>\n",
       "      <th>2</th>\n",
       "      <td>AGGACGACGACTACAATAAGCCTCTGGATC</td>\n",
       "      <td>[[1, 0, 0, 1, 0, 0, 1, 0, 0, 1, 0, 0, 1, 0, 1,...</td>\n",
       "      <td>25.994760</td>\n",
       "    </tr>\n",
       "    <tr>\n",
       "      <th>3</th>\n",
       "      <td>GCAGCAAACTGACGGAGAACCTTGTGGCCC</td>\n",
       "      <td>[[0, 0, 1, 0, 0, 1, 1, 1, 0, 0, 0, 1, 0, 0, 0,...</td>\n",
       "      <td>57.964590</td>\n",
       "    </tr>\n",
       "    <tr>\n",
       "      <th>4</th>\n",
       "      <td>CCGGCAGATATCCGTGAAGGCTCTAGGTAC</td>\n",
       "      <td>[[0, 0, 0, 0, 0, 1, 0, 1, 0, 1, 0, 0, 0, 0, 0,...</td>\n",
       "      <td>39.355020</td>\n",
       "    </tr>\n",
       "  </tbody>\n",
       "</table>\n",
       "</div>"
      ],
      "text/plain": [
       "                              seq  \\\n",
       "0  TTCTGCCTTGTTTCTTTCCTCTCTGGGTCG   \n",
       "1  ACGACCTTCAGCTCAGTGACAGTGAGGACA   \n",
       "2  AGGACGACGACTACAATAAGCCTCTGGATC   \n",
       "3  GCAGCAAACTGACGGAGAACCTTGTGGCCC   \n",
       "4  CCGGCAGATATCCGTGAAGGCTCTAGGTAC   \n",
       "\n",
       "                                     Onehot Encoding  Indel freq  \n",
       "0  [[0, 0, 0, 0, 0, 0, 0, 0, 0, 0, 0, 0, 0, 0, 0,...   24.287805  \n",
       "1  [[1, 0, 0, 1, 0, 0, 0, 0, 0, 1, 0, 0, 0, 0, 1,...   69.500438  \n",
       "2  [[1, 0, 0, 1, 0, 0, 1, 0, 0, 1, 0, 0, 1, 0, 1,...   25.994760  \n",
       "3  [[0, 0, 1, 0, 0, 1, 1, 1, 0, 0, 0, 1, 0, 0, 0,...   57.964590  \n",
       "4  [[0, 0, 0, 0, 0, 1, 0, 1, 0, 1, 0, 0, 0, 0, 0,...   39.355020  "
      ]
     },
     "execution_count": 4,
     "metadata": {},
     "output_type": "execute_result"
    }
   ],
   "source": [
    "onehotEncoded = []\n",
    "\n",
    "for seq in kimData[\"seq\"]:\n",
    "    onehotEncoded.append(np.array(encode(seq)).transpose().tolist())\n",
    "\n",
    "kimData.insert(1, \"Onehot Encoding\", onehotEncoded)\n",
    "kimData.head()"
   ]
  },
  {
   "cell_type": "code",
   "execution_count": 5,
   "metadata": {},
   "outputs": [
    {
     "data": {
      "text/html": [
       "<div>\n",
       "<style scoped>\n",
       "    .dataframe tbody tr th:only-of-type {\n",
       "        vertical-align: middle;\n",
       "    }\n",
       "\n",
       "    .dataframe tbody tr th {\n",
       "        vertical-align: top;\n",
       "    }\n",
       "\n",
       "    .dataframe thead th {\n",
       "        text-align: right;\n",
       "    }\n",
       "</style>\n",
       "<table border=\"1\" class=\"dataframe\">\n",
       "  <thead>\n",
       "    <tr style=\"text-align: right;\">\n",
       "      <th></th>\n",
       "      <th>seq</th>\n",
       "      <th>Onehot Encoding</th>\n",
       "      <th>Melting Point</th>\n",
       "      <th>Indel freq</th>\n",
       "    </tr>\n",
       "  </thead>\n",
       "  <tbody>\n",
       "    <tr>\n",
       "      <th>0</th>\n",
       "      <td>TTCTGCCTTGTTTCTTTCCTCTCTGGGTCG</td>\n",
       "      <td>[[0, 0, 0, 0, 0, 0, 0, 0, 0, 0, 0, 0, 0, 0, 0,...</td>\n",
       "      <td>61.970567</td>\n",
       "      <td>24.287805</td>\n",
       "    </tr>\n",
       "    <tr>\n",
       "      <th>1</th>\n",
       "      <td>ACGACCTTCAGCTCAGTGACAGTGAGGACA</td>\n",
       "      <td>[[1, 0, 0, 1, 0, 0, 0, 0, 0, 1, 0, 0, 0, 0, 1,...</td>\n",
       "      <td>63.961100</td>\n",
       "      <td>69.500438</td>\n",
       "    </tr>\n",
       "    <tr>\n",
       "      <th>2</th>\n",
       "      <td>AGGACGACGACTACAATAAGCCTCTGGATC</td>\n",
       "      <td>[[1, 0, 0, 1, 0, 0, 1, 0, 0, 1, 0, 0, 1, 0, 1,...</td>\n",
       "      <td>60.971936</td>\n",
       "      <td>25.994760</td>\n",
       "    </tr>\n",
       "    <tr>\n",
       "      <th>3</th>\n",
       "      <td>GCAGCAAACTGACGGAGAACCTTGTGGCCC</td>\n",
       "      <td>[[0, 0, 1, 0, 0, 1, 1, 1, 0, 0, 0, 1, 0, 0, 0,...</td>\n",
       "      <td>66.593277</td>\n",
       "      <td>57.964590</td>\n",
       "    </tr>\n",
       "    <tr>\n",
       "      <th>4</th>\n",
       "      <td>CCGGCAGATATCCGTGAAGGCTCTAGGTAC</td>\n",
       "      <td>[[0, 0, 0, 0, 0, 1, 0, 1, 0, 1, 0, 0, 0, 0, 0,...</td>\n",
       "      <td>62.893776</td>\n",
       "      <td>39.355020</td>\n",
       "    </tr>\n",
       "  </tbody>\n",
       "</table>\n",
       "</div>"
      ],
      "text/plain": [
       "                              seq  \\\n",
       "0  TTCTGCCTTGTTTCTTTCCTCTCTGGGTCG   \n",
       "1  ACGACCTTCAGCTCAGTGACAGTGAGGACA   \n",
       "2  AGGACGACGACTACAATAAGCCTCTGGATC   \n",
       "3  GCAGCAAACTGACGGAGAACCTTGTGGCCC   \n",
       "4  CCGGCAGATATCCGTGAAGGCTCTAGGTAC   \n",
       "\n",
       "                                     Onehot Encoding  Melting Point  \\\n",
       "0  [[0, 0, 0, 0, 0, 0, 0, 0, 0, 0, 0, 0, 0, 0, 0,...      61.970567   \n",
       "1  [[1, 0, 0, 1, 0, 0, 0, 0, 0, 1, 0, 0, 0, 0, 1,...      63.961100   \n",
       "2  [[1, 0, 0, 1, 0, 0, 1, 0, 0, 1, 0, 0, 1, 0, 1,...      60.971936   \n",
       "3  [[0, 0, 1, 0, 0, 1, 1, 1, 0, 0, 0, 1, 0, 0, 0,...      66.593277   \n",
       "4  [[0, 0, 0, 0, 0, 1, 0, 1, 0, 1, 0, 0, 0, 0, 0,...      62.893776   \n",
       "\n",
       "   Indel freq  \n",
       "0   24.287805  \n",
       "1   69.500438  \n",
       "2   25.994760  \n",
       "3   57.964590  \n",
       "4   39.355020  "
      ]
     },
     "execution_count": 5,
     "metadata": {},
     "output_type": "execute_result"
    }
   ],
   "source": [
    "meltingTemp = []\n",
    "\n",
    "for seq in kimData[\"seq\"]:\n",
    "    myseq = Seq(seq)\n",
    "    meltingTemp.append(mt.Tm_NN(myseq))\n",
    "\n",
    "kimData.insert(2, \"Melting Point\", meltingTemp)\n",
    "kimData.head()"
   ]
  },
  {
   "cell_type": "code",
   "execution_count": 6,
   "metadata": {},
   "outputs": [
    {
     "name": "stdout",
     "output_type": "stream",
     "text": [
      "torch.Size([13359, 4, 30]) torch.Size([13359]) torch.Size([13359])\n"
     ]
    }
   ],
   "source": [
    "onehot = []\n",
    "response = []\n",
    "meltingpoint = []\n",
    "\n",
    "for rowIdx, row in kimData.iterrows():\n",
    "    onehot.append(row[\"Onehot Encoding\"])\n",
    "    response.append(float(row[\"Indel freq\"]))\n",
    "    meltingpoint.append(float(row[\"Melting Point\"]))\n",
    "\n",
    "_onehot = t.tensor(onehot, dtype=t.float32)\n",
    "_response = t.tensor(response, dtype=t.float32)\n",
    "_meltingpoint = t.tensor(meltingpoint, dtype=t.float32)\n",
    "\n",
    "t.save(_onehot, f'kim_2019_X.pt')\n",
    "t.save(_response, f'kim_2019_Y.pt')\n",
    "t.save(_meltingpoint, f'kim_2019_Features.pt')\n",
    "\n",
    "print(_onehot.shape, _response.shape, _meltingpoint.shape)"
   ]
  }
 ],
 "metadata": {
  "kernelspec": {
   "display_name": "jupyterHub",
   "language": "python",
   "name": "jupyterhub"
  },
  "language_info": {
   "codemirror_mode": {
    "name": "ipython",
    "version": 3
   },
   "file_extension": ".py",
   "mimetype": "text/x-python",
   "name": "python",
   "nbconvert_exporter": "python",
   "pygments_lexer": "ipython3",
   "version": "3.8.10"
  },
  "orig_nbformat": 4
 },
 "nbformat": 4,
 "nbformat_minor": 2
}
